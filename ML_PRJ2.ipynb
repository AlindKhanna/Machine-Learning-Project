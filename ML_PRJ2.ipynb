{
 "cells": [
  {
   "cell_type": "code",
   "execution_count": 5,
   "metadata": {},
   "outputs": [],
   "source": [
    "import numpy as np\n",
    "import pandas as pd\n",
    "import nltk\n",
    "from nltk.stem.snowball import SnowballStemmer\n",
    "import json\n",
    "import re\n",
    "import string\n",
    "\n",
    "from sklearn.feature_extraction.text import TfidfVectorizer\n",
    "\n",
    "#nltk.download('stopwords')\n",
    "#nltk.download('punkt')"
   ]
  },
  {
   "cell_type": "code",
   "execution_count": 10,
   "metadata": {},
   "outputs": [
    {
     "name": "stderr",
     "output_type": "stream",
     "text": [
      "[nltk_data] Downloading package inaugural to C:\\Users\\ALIND\n",
      "[nltk_data]     KHANNA\\AppData\\Roaming\\nltk_data...\n",
      "[nltk_data]   Package inaugural is already up-to-date!\n"
     ]
    },
    {
     "data": {
      "text/plain": [
       "'Mr. Vice President, Mr. Speaker, Mr. Chief Justice, Senator Cook, Mrs. Eisenhower, and my fellow citizens of this great and good country we share together:\\n\\nWhen we met here four years ago, America was bleak in spirit, depressed by the prospect of seemingly endless war abroad and of destructive conflict at home.\\n\\nAs we meet here today, we stand on the threshold of a new era of peace in the world.\\n\\nThe central question before us is: How shall we use that peace? Let us resolve that this era we are about to enter will not be what other postwar periods have so often been: a time of retreat and isolation that leads to stagnation at home and invites new danger abroad.\\n\\nLet us resolve that this will be what it can become: a time of great responsibilities greatly borne, in which we renew the spirit and the promise of America as we enter our third century as a nation.\\n\\nThis past year saw far-reaching results from our new policies for peace. By continuing to revitalize our traditional friendships, and by our missions to Peking and to Moscow, we were able to establish the base for a new and more durable pattern of relationships among the nations of the world. Because of America\\'s bold initiatives, 1972 will be long remembered as the year of the greatest progress since the end of World War II toward a lasting peace in the world.\\n\\nThe peace we seek in the world is not the flimsy peace which is merely an interlude between wars, but a peace which can endure for generations to come.\\n\\nIt is important that we understand both the necessity and the limitations of America\\'s role in maintaining that peace.\\n\\nUnless we in America work to preserve the peace, there will be no peace.\\n\\nUnless we in America work to preserve freedom, there will be no freedom.\\n\\nBut let us clearly understand the new nature of America\\'s role, as a result of the new policies we have adopted over these past four years.\\n\\nWe shall respect our treaty commitments.\\n\\nWe shall support vigorously the principle that no country has the right to impose its will or rule on another by force.\\n\\nWe shall continue, in this era of negotiation, to work for the limitation of nuclear arms, and to reduce the danger of confrontation between the great powers.\\n\\nWe shall do our share in defending peace and freedom in the world. But we shall expect others to do their share.\\n\\nThe time has passed when America will make every other nation\\'s conflict our own, or make every other nation\\'s future our responsibility, or presume to tell the people of other nations how to manage their own affairs.\\n\\nJust as we respect the right of each nation to determine its own future, we also recognize the responsibility of each nation to secure its own future.\\n\\nJust as America\\'s role is indispensable in preserving the world\\'s peace, so is each nation\\'s role indispensable in preserving its own peace.\\n\\nTogether with the rest of the world, let us resolve to move forward from the beginnings we have made. Let us continue to bring down the walls of hostility which have divided the world for too long, and to build in their place bridges of understanding -- so that despite profound differences between systems of government, the people of the world can be friends.\\n\\nLet us build a structure of peace in the world in which the weak are as safe as the strong -- in which each respects the right of the other to live by a different system -- in which those who would influence others will do so by the strength of their ideas, and not by the force of their arms.\\n\\nLet us accept that high responsibility not as a burden, but gladly -- gladly because the chance to build such a peace is the noblest endeavor in which a nation can engage; gladly, also, because only if we act greatly in meeting our responsibilities abroad will we remain a great Nation, and only if we remain a great Nation will we act greatly in meeting our challenges at home.\\n\\nWe have the chance today to do more than ever before in our history to make life better in America -- to ensure better education, better health, better housing, better transportation, a cleaner environment -- to restore respect for law, to make our communities more livable -- and to insure the God-given right of every American to full and equal opportunity.\\n\\nBecause the range of our needs is so great -- because the reach of our opportunities is so great -- let us be bold in our determination to meet those needs in new ways.\\n\\nJust as building a structure of peace abroad has required turning away from old policies that failed, so building a new era of progress at home requires turning away from old policies that have failed.\\n\\nAbroad, the shift from old policies to new has not been a retreat from our responsibilities, but a better way to peace.\\n\\nAnd at home, the shift from old policies to new will not be a retreat from our responsibilities, but a better way to progress.\\n\\nAbroad and at home, the key to those new responsibilities lies in the placing and the division of responsibility. We have lived too long with the consequences of attempting to gather all power and responsibility in Washington.\\n\\nAbroad and at home, the time has come to turn away from the condescending policies of paternalism -- of \"Washington knows best.\"\\n\\nA person can be expected to act responsibly only if he has responsibility. This is human nature. So let us encourage individuals at home and nations abroad to do more for themselves, to decide more for themselves. Let us locate responsibility in more places. Let us measure what we will do for others by what they will do for themselves.\\n\\nThat is why today I offer no promise of a purely governmental solution for every problem. We have lived too long with that false promise. In trusting too much in government, we have asked of it more than it can deliver. This leads only to inflated expectations, to reduced individual effort, and to a disappointment and frustration that erode confidence both in what government can do and in what people can do.\\n\\nGovernment must learn to take less from people so that people an do more for themselves.\\n\\nLet us remember that America was built not by government, but by people -- not by welfare, but by work -- not by shirking responsibility, but by seeking responsibility.\\n\\nIn our own lives, let each of us ask -- not just what will government do for me, but what can I do for myself?\\n\\nIn the challenges we face together, let each of us ask -- not just how can government help, but how can I help?\\n\\nYour National Government has a great and vital role to play. And I pledge to you that where this Government should act, we will act boldly and we will lead boldly. But just as important is the role that each and every one of us must play, as an individual and as a member of his own community.\\n\\nFrom this day forward, let each of us make a solemn commitment in his own heart: to bear his responsibility, to do his part, to live his ideals -- so that together, we can see the dawn of a new age of progress for America, and together, as we celebrate our 200th anniversary as a nation, we can do so proud in the fulfillment of our promise to ourselves and to the world.\\n\\nAs America\\'s longest and most difficult war comes to an end, let us again learn to debate our differences with civility and decency. And let each of us reach out for that one precious quality government cannot provide -- a new level of respect for the rights and feelings of one another, a new level of respect for the individual human dignity which is the cherished birthright of every American.\\n\\nAbove all else, the time has come for us to renew our faith in ourselves and in America.\\n\\nIn recent years, that faith has been challenged.\\n\\nOur children have been taught to be ashamed of their country, ashamed of their parents, ashamed of America\\'s record at home and of its role in the world.\\n\\nAt every turn, we have been beset by those who find everything wrong with America and little that is right. But I am confident that this will not be the judgment of history on these remarkable times in which we are privileged to live.\\n\\nAmerica\\'s record in this century has been unparalleled in the world\\'s history for its responsibility, for its generosity, for its creativity and for its progress.\\n\\nLet us be proud that our system has produced and provided more freedom and more abundance, more widely shared, than any other system in the history of the world.\\n\\nLet us be proud that in each of the four wars in which we have been engaged in this century, including the one we are now bringing to an end, we have fought not for our selfish advantage, but to help others resist aggression.\\n\\nLet us be proud that by our bold, new initiatives, and by our steadfastness for peace with honor, we have made a break-through toward creating in the world what the world has not known before -- a structure of peace that can last, not merely for our time, but for generations to come.\\n\\nWe are embarking here today on an era that presents challenges great as those any nation, or any generation, has ever faced.\\n\\nWe shall answer to God, to history, and to our conscience for the way in which we use these years.\\n\\nAs I stand in this place, so hallowed by history, I think of others who have stood here before me. I think of the dreams they had for America, and I think of how each recognized that he needed help far beyond himself in order to make those dreams come true.\\n\\nToday, I ask your prayers that in the years ahead I may have God\\'s help in making decisions that are right for America, and I pray for your help so that together we may be worthy of our challenge.\\n\\nLet us pledge together to make these next four years the best four years in America\\'s history, so that on its 200th birthday America will be as young and as vital as when it began, and as bright a beacon of hope for all the world.\\n\\nLet us go forward from here confident in hope, strong in our faith in one another, sustained by our faith in God who created us, and striving always to serve His purpose.\\n'"
      ]
     },
     "execution_count": 10,
     "metadata": {},
     "output_type": "execute_result"
    }
   ],
   "source": [
    "\n",
    "import nltk\n",
    "nltk.download('inaugural')\n",
    "from nltk.corpus import inaugural\n",
    "inaugural.fileids()\n",
    "inaugural.raw('1941-Roosevelt.txt')\n",
    "inaugural.raw('1961-Kennedy.txt')\n",
    "inaugural.raw('1973-Nixon.txt')"
   ]
  },
  {
   "cell_type": "code",
   "execution_count": 11,
   "metadata": {},
   "outputs": [
    {
     "name": "stdout",
     "output_type": "stream",
     "text": [
      "\u001b[95m\u001b[1m Roosevelt Speech Characterstics \n",
      " \u001b[95m \u001b[0m\n",
      "Number Of Characters 7571\n",
      "Number Of Words 1536\n",
      "Number Of Sentences 68\n",
      "\n",
      "\u001b[91m\u001b[1m Kennedy Speech Characterstics \n",
      " \u001b[92m \u001b[0m\n",
      "Number Of Characters 7618\n",
      "Number Of Words 1546\n",
      "Number Of Sentences 52\n",
      "\n",
      "\u001b[92m\u001b[1m Nixon Speech Characterstics \n",
      " \u001b[92m \u001b[0m\n",
      "Number Of Characters 9991\n",
      "Number Of Words 2028\n",
      "Number Of Sentences 69\n"
     ]
    }
   ],
   "source": [
    "num_chars = len(inaugural.raw('1941-Roosevelt.txt'))\n",
    "num_words = len(inaugural.words('1941-Roosevelt.txt'))\n",
    "num_sents = len(inaugural.sents('1941-Roosevelt.txt'))\n",
    "print('\\033[95m''\\033[1m','Roosevelt Speech Characterstics \\n','\\033[95m','\\033[0m')\n",
    "print('Number Of Characters',num_chars)\n",
    "print('Number Of Words',num_words)\n",
    "print('Number Of Sentences',num_sents)\n",
    "num_chars = len(inaugural.raw('1961-Kennedy.txt'))\n",
    "num_words = len(inaugural.words('1961-Kennedy.txt'))\n",
    "num_sents = len(inaugural.sents('1961-Kennedy.txt'))\n",
    "print('\\n\\033[91m''\\033[1m','Kennedy Speech Characterstics \\n','\\033[92m','\\033[0m')\n",
    "print('Number Of Characters',num_chars)\n",
    "print('Number Of Words',num_words)\n",
    "print('Number Of Sentences',num_sents)\n",
    "num_chars = len(inaugural.raw('1973-Nixon.txt'))\n",
    "num_words = len(inaugural.words('1973-Nixon.txt'))\n",
    "num_sents = len(inaugural.sents('1973-Nixon.txt'))\n",
    "print('\\n\\033[92m''\\033[1m','Nixon Speech Characterstics \\n','\\033[92m','\\033[0m')\n",
    "print('Number Of Characters',num_chars)\n",
    "print('Number Of Words',num_words)\n",
    "print('Number Of Sentences',num_sents)\n"
   ]
  },
  {
   "cell_type": "code",
   "execution_count": 14,
   "metadata": {},
   "outputs": [],
   "source": [
    "stopwords = nltk.corpus.stopwords.words('english') +list(string.punctuation)\n",
    "stemmer = SnowballStemmer(\"english\")"
   ]
  },
  {
   "cell_type": "code",
   "execution_count": 15,
   "metadata": {},
   "outputs": [],
   "source": [
    "def myTokenizer(text):\n",
    "    temp_tokens = [word for word in nltk.word_tokenize(text)]\n",
    "    tokens = []\n",
    "    for token in temp_tokens:\n",
    "        if re.search('[a-zA-Z]', token):\n",
    "            tokens.append(token)\n",
    "    ret_tokens = [stemmer.stem(t) for t in tokens]\n",
    "    return ret_tokens"
   ]
  },
  {
   "cell_type": "code",
   "execution_count": 67,
   "metadata": {},
   "outputs": [],
   "source": [
    "text=myTokenizer(inaugural.raw('1973-Nixon.txt'))\n",
    "text1=myTokenizer(inaugural.raw('1961-Kennedy.txt'))\n",
    "text2=myTokenizer(inaugural.raw('1941-Roosevelt.txt'))"
   ]
  },
  {
   "cell_type": "code",
   "execution_count": 69,
   "metadata": {},
   "outputs": [
    {
     "name": "stderr",
     "output_type": "stream",
     "text": [
      "C:\\Users\\ALIND KHANNA\\anaconda3\\lib\\site-packages\\sklearn\\feature_extraction\\text.py:401: UserWarning: Your stop_words may be inconsistent with your preprocessing. Tokenizing the stop words generated tokens [\"'d\", \"'s\", 'abov', 'ani', 'becaus', 'befor', 'could', 'doe', 'dure', 'might', 'must', \"n't\", 'need', 'onc', 'onli', 'ourselv', 'sha', 'themselv', 'veri', 'whi', 'wo', 'would', 'yourselv'] not in stop_words.\n",
      "  % sorted(inconsistent)\n",
      "C:\\Users\\ALIND KHANNA\\anaconda3\\lib\\site-packages\\sklearn\\utils\\deprecation.py:87: FutureWarning: Function get_feature_names is deprecated; get_feature_names is deprecated in 1.0 and will be removed in 1.2. Please use get_feature_names_out instead.\n",
      "  warnings.warn(msg, category=FutureWarning)\n"
     ]
    }
   ],
   "source": [
    "tfidf_vectorizer = TfidfVectorizer(max_features=200000,\n",
    "                                 stop_words=stopwords,\n",
    "                                 use_idf=True, tokenizer=myTokenizer, ngram_range=(1,3))\n",
    "\n",
    "tfidf_matrix = tfidf_vectorizer.fit_transform(text2)\n",
    "terms = tfidf_vectorizer.get_feature_names()"
   ]
  },
  {
   "cell_type": "code",
   "execution_count": 70,
   "metadata": {},
   "outputs": [],
   "source": [
    "    all_words_freq = nltk.FreqDist(terms)"
   ]
  },
  {
   "cell_type": "code",
   "execution_count": 71,
   "metadata": {},
   "outputs": [
    {
     "data": {
      "text/plain": [
       "FreqDist({\"'s\": 1, 'achiev': 1, 'across': 1, 'act': 1, 'action': 1, 'address': 1, 'advanc': 1, 'age': 1, 'ago': 1, 'alert': 1, ...})"
      ]
     },
     "execution_count": 71,
     "metadata": {},
     "output_type": "execute_result"
    }
   ],
   "source": [
    "   all_words_freq"
   ]
  },
  {
   "cell_type": "code",
   "execution_count": 72,
   "metadata": {},
   "outputs": [],
   "source": [
    "word_features = [item[0] for item in all_words_freq.most_common(2000)]"
   ]
  },
  {
   "cell_type": "code",
   "execution_count": 73,
   "metadata": {},
   "outputs": [
    {
     "data": {
      "text/plain": [
       "[\"'s\", 'achiev', 'across', 'act', 'action']"
      ]
     },
     "execution_count": 73,
     "metadata": {},
     "output_type": "execute_result"
    }
   ],
   "source": [
    "word_features[:5]"
   ]
  },
  {
   "cell_type": "code",
   "execution_count": 27,
   "metadata": {},
   "outputs": [],
   "source": [
    "words1 = [word for word in inaugural.raw('1941-Roosevelt.txt').split() if word.lower() not in stopwords]\n",
    "new_text1 = \" \".join(words1)\n",
    "words2 = [word for word in inaugural.raw('1961-Kennedy.txt').split() if word.lower() not in stopwords]\n",
    "new_text2 = \" \".join(words2)\n",
    "words3 = [word for word in inaugural.raw('1973-Nixon.txt').split() if word.lower() not in stopwords]\n",
    "new_text3 = \" \".join(words3)\n"
   ]
  },
  {
   "cell_type": "code",
   "execution_count": 28,
   "metadata": {},
   "outputs": [
    {
     "name": "stdout",
     "output_type": "stream",
     "text": [
      "\u001b[95mNumber of Character without stopwords in Roosevelt speech :  4905\n",
      "\u001b[90mNumber of Character without stopwords in Kennedy speech :  5057\n",
      "\u001b[91mNumber of Character without stopwords in Nixon speech :  6266\n",
      "\u001b[92mNumber of Words without stopwords in Roosevelt speech :  666\n",
      "\u001b[93mNumber of Words without stopwords in Kennedy speech :  730\n",
      "\u001b[94mNumber of Words without stopwords in Nixon speech :  861\n"
     ]
    }
   ],
   "source": [
    "print(\"\\033[95mNumber of Character without stopwords in Roosevelt speech : \", len(new_text1))\n",
    "print(\"\\033[90mNumber of Character without stopwords in Kennedy speech : \", len(new_text2))\n",
    "print(\"\\033[91mNumber of Character without stopwords in Nixon speech : \", len(new_text3))\n",
    "print(\"\\033[92mNumber of Words without stopwords in Roosevelt speech : \", len(words1))\n",
    "print(\"\\033[93mNumber of Words without stopwords in Kennedy speech : \", len(words2))\n",
    "print(\"\\033[94mNumber of Words without stopwords in Nixon speech : \", len(words3))"
   ]
  },
  {
   "cell_type": "code",
   "execution_count": 49,
   "metadata": {},
   "outputs": [],
   "source": [
    "wt_words = inaugural.words('1941-Roosevelt.txt')"
   ]
  },
  {
   "cell_type": "code",
   "execution_count": 54,
   "metadata": {},
   "outputs": [],
   "source": [
    "data_analysis = nltk.FreqDist(terms)"
   ]
  },
  {
   "cell_type": "code",
   "execution_count": 56,
   "metadata": {},
   "outputs": [
    {
     "ename": "IndentationError",
     "evalue": "unindent does not match any outer indentation level (<tokenize>, line 6)",
     "output_type": "error",
     "traceback": [
      "\u001b[1;36m  File \u001b[1;32m\"<tokenize>\"\u001b[1;36m, line \u001b[1;32m6\u001b[0m\n\u001b[1;33m    data_analysis = nltk.FreqDist(filter_words)\u001b[0m\n\u001b[1;37m    ^\u001b[0m\n\u001b[1;31mIndentationError\u001b[0m\u001b[1;31m:\u001b[0m unindent does not match any outer indentation level\n"
     ]
    }
   ],
   "source": [
    "filter_words = dict([(m, n) for m, n in data_analysis.items() if len(m) > 3])\n",
    " \n",
    "for key in sorted(filter_words):\n",
    "    print(\"%s: %s\" % (key, filter_words[key]))\n",
    " \n",
    " data_analysis = nltk.FreqDist(filter_words)"
   ]
  },
  {
   "cell_type": "code",
   "execution_count": null,
   "metadata": {},
   "outputs": [],
   "source": []
  }
 ],
 "metadata": {
  "kernelspec": {
   "display_name": "Python 3",
   "language": "python",
   "name": "python3"
  },
  "language_info": {
   "codemirror_mode": {
    "name": "ipython",
    "version": 3
   },
   "file_extension": ".py",
   "mimetype": "text/x-python",
   "name": "python",
   "nbconvert_exporter": "python",
   "pygments_lexer": "ipython3",
   "version": "3.7.6"
  }
 },
 "nbformat": 4,
 "nbformat_minor": 4
}
